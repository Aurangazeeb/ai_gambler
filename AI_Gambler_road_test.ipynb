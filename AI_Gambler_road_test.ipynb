{
 "cells": [
  {
   "cell_type": "code",
   "execution_count": 1,
   "metadata": {},
   "outputs": [],
   "source": [
    "import pandas as pd\n",
    "import numpy as np"
   ]
  },
  {
   "cell_type": "code",
   "execution_count": 2,
   "metadata": {},
   "outputs": [],
   "source": [
    "from shop_constants import _pageconstants"
   ]
  },
  {
   "cell_type": "code",
   "execution_count": 3,
   "metadata": {},
   "outputs": [],
   "source": [
    "from playshop import PlayShop"
   ]
  },
  {
   "cell_type": "code",
   "execution_count": 4,
   "metadata": {},
   "outputs": [],
   "source": [
    "from shopplayer import Player"
   ]
  },
  {
   "cell_type": "code",
   "execution_count": 5,
   "metadata": {},
   "outputs": [],
   "source": [
    "import tensorflow as tf\n",
    "\n",
    "from tensorflow.keras.models import Sequential\n",
    "from tensorflow.keras.layers import Dense, LSTM"
   ]
  },
  {
   "cell_type": "code",
   "execution_count": 6,
   "metadata": {},
   "outputs": [],
   "source": [
    "from sklearn.naive_bayes import MultinomialNB, GaussianNB"
   ]
  },
  {
   "cell_type": "code",
   "execution_count": 7,
   "metadata": {},
   "outputs": [],
   "source": [
    "credentials = (9061943002 ,'godforme')"
   ]
  },
  {
   "cell_type": "code",
   "execution_count": 14,
   "metadata": {},
   "outputs": [],
   "source": [
    "nadal = PlayShop('nadalweb.in')"
   ]
  },
  {
   "cell_type": "code",
   "execution_count": 15,
   "metadata": {},
   "outputs": [],
   "source": [
    "nadal.make_page_constants(*_pageconstants)"
   ]
  },
  {
   "cell_type": "code",
   "execution_count": 17,
   "metadata": {},
   "outputs": [
    {
     "name": "stdout",
     "output_type": "stream",
     "text": [
      "Fetching nadalweb.in ...\n",
      "Fetch completed...\n",
      "Logging in ...\n",
      "You are logged in !\n",
      "Navigating to scoreboard...\n",
      "Arrived at scoreboard of parity server !\n"
     ]
    }
   ],
   "source": [
    "nadal.visit(credentials, sleeptime= 2)"
   ]
  },
  {
   "cell_type": "code",
   "execution_count": 23,
   "metadata": {},
   "outputs": [
    {
     "name": "stdout",
     "output_type": "stream",
     "text": [
      "Fetching from server : parity ! (Time now : 01:48s)\n",
      "Entering at shop time 1:45...\n",
      "Started fetching 20 pages .. at 01:45s\n",
      "Fetch completed ... !\n",
      "Data collected has nice quality !\n",
      "Processing data ...\n",
      "\n",
      "**************************************************\n",
      "Datapoints arrangement : Past to Future ...\n",
      "**************************************************\n",
      "\n",
      "Data parsed successfully ...! Time elapsed :  56.90 s\n"
     ]
    }
   ],
   "source": [
    "df = nadal.get_gamedf_v2(200, entry_time= nadal.now())"
   ]
  },
  {
   "cell_type": "code",
   "execution_count": 12,
   "metadata": {},
   "outputs": [
    {
     "data": {
      "text/html": [
       "<div>\n",
       "<style scoped>\n",
       "    .dataframe tbody tr th:only-of-type {\n",
       "        vertical-align: middle;\n",
       "    }\n",
       "\n",
       "    .dataframe tbody tr th {\n",
       "        vertical-align: top;\n",
       "    }\n",
       "\n",
       "    .dataframe thead th {\n",
       "        text-align: right;\n",
       "    }\n",
       "</style>\n",
       "<table border=\"1\" class=\"dataframe\">\n",
       "  <thead>\n",
       "    <tr style=\"text-align: right;\">\n",
       "      <th></th>\n",
       "      <th>timestamp</th>\n",
       "      <th>price</th>\n",
       "      <th>number</th>\n",
       "      <th>color</th>\n",
       "      <th>colorseries</th>\n",
       "      <th>num_plus_color</th>\n",
       "      <th>num_times_color</th>\n",
       "    </tr>\n",
       "  </thead>\n",
       "  <tbody>\n",
       "    <tr>\n",
       "      <td>0</td>\n",
       "      <td>20201003223</td>\n",
       "      <td>25456</td>\n",
       "      <td>6</td>\n",
       "      <td>red</td>\n",
       "      <td>2</td>\n",
       "      <td>8</td>\n",
       "      <td>12</td>\n",
       "    </tr>\n",
       "    <tr>\n",
       "      <td>1</td>\n",
       "      <td>20201003224</td>\n",
       "      <td>25479</td>\n",
       "      <td>9</td>\n",
       "      <td>green</td>\n",
       "      <td>0</td>\n",
       "      <td>9</td>\n",
       "      <td>0</td>\n",
       "    </tr>\n",
       "    <tr>\n",
       "      <td>2</td>\n",
       "      <td>20201003225</td>\n",
       "      <td>25433</td>\n",
       "      <td>3</td>\n",
       "      <td>green</td>\n",
       "      <td>0</td>\n",
       "      <td>3</td>\n",
       "      <td>0</td>\n",
       "    </tr>\n",
       "  </tbody>\n",
       "</table>\n",
       "</div>"
      ],
      "text/plain": [
       "     timestamp  price  number  color  colorseries  num_plus_color  \\\n",
       "0  20201003223  25456       6    red            2               8   \n",
       "1  20201003224  25479       9  green            0               9   \n",
       "2  20201003225  25433       3  green            0               3   \n",
       "\n",
       "   num_times_color  \n",
       "0               12  \n",
       "1                0  \n",
       "2                0  "
      ]
     },
     "execution_count": 12,
     "metadata": {},
     "output_type": "execute_result"
    }
   ],
   "source": [
    "df.head(3)"
   ]
  },
  {
   "cell_type": "code",
   "execution_count": 11,
   "metadata": {},
   "outputs": [
    {
     "data": {
      "text/plain": [
       "red               12\n",
       "green             12\n",
       "green + violet     3\n",
       "red + violet       2\n",
       "Name: color, dtype: int64"
      ]
     },
     "execution_count": 11,
     "metadata": {},
     "output_type": "execute_result"
    }
   ],
   "source": [
    "df.color.value_counts()"
   ]
  },
  {
   "cell_type": "code",
   "execution_count": 24,
   "metadata": {},
   "outputs": [],
   "source": [
    "pl = Player(10, nadal)"
   ]
  },
  {
   "cell_type": "code",
   "execution_count": 25,
   "metadata": {},
   "outputs": [],
   "source": [
    "def lstm(n_steps , n_features, n_lstm_units = 150):\n",
    "    n_lstm_units = tf.constant(n_lstm_units)\n",
    "    n_steps = tf.constant(n_steps)\n",
    "    n_features = tf.constant(n_features)\n",
    "    output_tensor = tf.constant(1)\n",
    "    \n",
    "    tf.compat.v1.reset_default_graph()\n",
    "    seqmodel = Sequential()\n",
    "    seqmodel.add(LSTM(n_lstm_units, activation='relu', input_shape=(n_steps, n_features)))\n",
    "    seqmodel.add(Dense(output_tensor))\n",
    "    seqmodel.compile(optimizer='rmsprop', loss='mse')\n",
    "    return seqmodel\n"
   ]
  },
  {
   "cell_type": "code",
   "execution_count": 26,
   "metadata": {},
   "outputs": [],
   "source": [
    "seqmodel = lstm(10, 1)"
   ]
  },
  {
   "cell_type": "code",
   "execution_count": 45,
   "metadata": {},
   "outputs": [],
   "source": [
    "# mnb = MultinomialNB()\n",
    "gnb = GaussianNB()"
   ]
  },
  {
   "cell_type": "code",
   "execution_count": 47,
   "metadata": {},
   "outputs": [],
   "source": [
    "clsfmodel = gnb"
   ]
  },
  {
   "cell_type": "code",
   "execution_count": 48,
   "metadata": {},
   "outputs": [],
   "source": [
    "pl.educate(seqmodel, clsfmodel, n_epochs = 500)"
   ]
  },
  {
   "cell_type": "code",
   "execution_count": 49,
   "metadata": {},
   "outputs": [
    {
     "name": "stdout",
     "output_type": "stream",
     "text": [
      "\n",
      "Generated Xtensor and ytensor !\n",
      "Tensors initialized !\n",
      "\n",
      "----------------------------------------------------------------------\n",
      "History saved for nadalweb.in\n",
      "----------------------------------------------------------------------\n",
      "\n",
      "Final Train Loss :      0.092                 \n",
      "\n",
      "Final  Val Loss :      2.559\n",
      "\n",
      "\n",
      "Sequence modeling complete ...!\n",
      "\n",
      "\n",
      "Sequence model predictions saved in seqpreds_df...!\n",
      "\n",
      "\n",
      "Classifier test fit performance on training set (CV = 4) :\n",
      "\n",
      "----------------------------------------------------------------------\n",
      "Mean Train Acc on : 0.804\n",
      "\n",
      "Mean Test Acc on : 0.756\n",
      "----------------------------------------------------------------------\n",
      "\n",
      "Classifier model is fit on whole data ... !\n",
      "\n",
      "----------------------------------------------------------------------\n",
      "Prediction saved in finalpreds_df...!\n",
      "----------------------------------------------------------------------\n",
      "\n",
      "Final classifier accuracy is :     79.894 %\n",
      "\n",
      "Prediction model is ready... (seqmodel + classifier) !\n",
      "\n"
     ]
    }
   ],
   "source": [
    "pl.reset_models()\n",
    "pl.learn(df.colorseries, 4)"
   ]
  },
  {
   "cell_type": "code",
   "execution_count": 59,
   "metadata": {},
   "outputs": [
    {
     "name": "stdout",
     "output_type": "stream",
     "text": [
      "You are on server : parity !\n",
      "Fetching from server : parity ! (Time now : 00:39s)\n",
      "Entering at shop time 0:36...\n",
      "Started fetching 2 pages .. at 00:36s\n",
      "Fetch completed ... !\n",
      "Data collected has nice quality !\n",
      "Processing data ...\n",
      "\n",
      "**************************************************\n",
      "Datapoints arrangement : Past to Future ...\n",
      "**************************************************\n",
      "\n",
      "Data parsed successfully ...! Time elapsed :  8.41 s\n",
      "\n",
      "**********************************************************************\n",
      "\n",
      "By watching 10 games, I think the next color is RED ...!\n",
      "\n",
      "**********************************************************************\n"
     ]
    }
   ],
   "source": [
    "pl.predict_next(make_log= False, play_reverse= False, fetch_till= 5)"
   ]
  },
  {
   "cell_type": "code",
   "execution_count": 60,
   "metadata": {},
   "outputs": [
    {
     "data": {
      "text/plain": [
       "'02:20'"
      ]
     },
     "execution_count": 60,
     "metadata": {},
     "output_type": "execute_result"
    }
   ],
   "source": [
    "nadal.now()"
   ]
  },
  {
   "cell_type": "code",
   "execution_count": 55,
   "metadata": {},
   "outputs": [
    {
     "data": {
      "text/html": [
       "<div>\n",
       "<style scoped>\n",
       "    .dataframe tbody tr th:only-of-type {\n",
       "        vertical-align: middle;\n",
       "    }\n",
       "\n",
       "    .dataframe tbody tr th {\n",
       "        vertical-align: top;\n",
       "    }\n",
       "\n",
       "    .dataframe thead th {\n",
       "        text-align: right;\n",
       "    }\n",
       "</style>\n",
       "<table border=\"1\" class=\"dataframe\">\n",
       "  <thead>\n",
       "    <tr style=\"text-align: right;\">\n",
       "      <th></th>\n",
       "      <th>timestamp</th>\n",
       "      <th>price</th>\n",
       "      <th>number</th>\n",
       "      <th>color</th>\n",
       "      <th>colorseries</th>\n",
       "      <th>num_plus_color</th>\n",
       "      <th>num_times_color</th>\n",
       "    </tr>\n",
       "  </thead>\n",
       "  <tbody>\n",
       "    <tr>\n",
       "      <td>18</td>\n",
       "      <td>20201010466</td>\n",
       "      <td>25425</td>\n",
       "      <td>5</td>\n",
       "      <td>green + violet</td>\n",
       "      <td>1</td>\n",
       "      <td>6</td>\n",
       "      <td>5</td>\n",
       "    </tr>\n",
       "  </tbody>\n",
       "</table>\n",
       "</div>"
      ],
      "text/plain": [
       "      timestamp  price  number           color  colorseries  num_plus_color  \\\n",
       "18  20201010466  25425       5  green + violet            1               6   \n",
       "\n",
       "    num_times_color  \n",
       "18                5  "
      ]
     },
     "execution_count": 55,
     "metadata": {},
     "output_type": "execute_result"
    }
   ],
   "source": [
    "pl.latestdf.tail(1)"
   ]
  },
  {
   "cell_type": "code",
   "execution_count": 35,
   "metadata": {},
   "outputs": [
    {
     "data": {
      "text/html": [
       "<div>\n",
       "<style scoped>\n",
       "    .dataframe tbody tr th:only-of-type {\n",
       "        vertical-align: middle;\n",
       "    }\n",
       "\n",
       "    .dataframe tbody tr th {\n",
       "        vertical-align: top;\n",
       "    }\n",
       "\n",
       "    .dataframe thead th {\n",
       "        text-align: right;\n",
       "    }\n",
       "</style>\n",
       "<table border=\"1\" class=\"dataframe\">\n",
       "  <thead>\n",
       "    <tr style=\"text-align: right;\">\n",
       "      <th></th>\n",
       "      <th>timestamp</th>\n",
       "      <th>price</th>\n",
       "      <th>number</th>\n",
       "      <th>color</th>\n",
       "      <th>colorseries</th>\n",
       "      <th>num_plus_color</th>\n",
       "      <th>num_times_color</th>\n",
       "    </tr>\n",
       "  </thead>\n",
       "  <tbody>\n",
       "    <tr>\n",
       "      <td>189</td>\n",
       "      <td>20201010452</td>\n",
       "      <td>25487</td>\n",
       "      <td>7</td>\n",
       "      <td>green</td>\n",
       "      <td>0</td>\n",
       "      <td>7</td>\n",
       "      <td>0</td>\n",
       "    </tr>\n",
       "    <tr>\n",
       "      <td>190</td>\n",
       "      <td>20201010453</td>\n",
       "      <td>25481</td>\n",
       "      <td>1</td>\n",
       "      <td>green</td>\n",
       "      <td>0</td>\n",
       "      <td>1</td>\n",
       "      <td>0</td>\n",
       "    </tr>\n",
       "    <tr>\n",
       "      <td>191</td>\n",
       "      <td>20201010454</td>\n",
       "      <td>25493</td>\n",
       "      <td>3</td>\n",
       "      <td>green</td>\n",
       "      <td>0</td>\n",
       "      <td>3</td>\n",
       "      <td>0</td>\n",
       "    </tr>\n",
       "    <tr>\n",
       "      <td>192</td>\n",
       "      <td>20201010455</td>\n",
       "      <td>25476</td>\n",
       "      <td>6</td>\n",
       "      <td>red</td>\n",
       "      <td>2</td>\n",
       "      <td>8</td>\n",
       "      <td>12</td>\n",
       "    </tr>\n",
       "    <tr>\n",
       "      <td>193</td>\n",
       "      <td>20201010456</td>\n",
       "      <td>25443</td>\n",
       "      <td>3</td>\n",
       "      <td>green</td>\n",
       "      <td>0</td>\n",
       "      <td>3</td>\n",
       "      <td>0</td>\n",
       "    </tr>\n",
       "    <tr>\n",
       "      <td>194</td>\n",
       "      <td>20201010457</td>\n",
       "      <td>25410</td>\n",
       "      <td>0</td>\n",
       "      <td>red + violet</td>\n",
       "      <td>3</td>\n",
       "      <td>3</td>\n",
       "      <td>0</td>\n",
       "    </tr>\n",
       "    <tr>\n",
       "      <td>195</td>\n",
       "      <td>20201010458</td>\n",
       "      <td>25488</td>\n",
       "      <td>8</td>\n",
       "      <td>red</td>\n",
       "      <td>2</td>\n",
       "      <td>10</td>\n",
       "      <td>16</td>\n",
       "    </tr>\n",
       "    <tr>\n",
       "      <td>196</td>\n",
       "      <td>20201010459</td>\n",
       "      <td>25407</td>\n",
       "      <td>7</td>\n",
       "      <td>green</td>\n",
       "      <td>0</td>\n",
       "      <td>7</td>\n",
       "      <td>0</td>\n",
       "    </tr>\n",
       "    <tr>\n",
       "      <td>197</td>\n",
       "      <td>20201010460</td>\n",
       "      <td>25418</td>\n",
       "      <td>8</td>\n",
       "      <td>red</td>\n",
       "      <td>2</td>\n",
       "      <td>10</td>\n",
       "      <td>16</td>\n",
       "    </tr>\n",
       "    <tr>\n",
       "      <td>198</td>\n",
       "      <td>20201010461</td>\n",
       "      <td>25465</td>\n",
       "      <td>5</td>\n",
       "      <td>green + violet</td>\n",
       "      <td>1</td>\n",
       "      <td>6</td>\n",
       "      <td>5</td>\n",
       "    </tr>\n",
       "  </tbody>\n",
       "</table>\n",
       "</div>"
      ],
      "text/plain": [
       "       timestamp  price  number           color  colorseries  num_plus_color  \\\n",
       "189  20201010452  25487       7           green            0               7   \n",
       "190  20201010453  25481       1           green            0               1   \n",
       "191  20201010454  25493       3           green            0               3   \n",
       "192  20201010455  25476       6             red            2               8   \n",
       "193  20201010456  25443       3           green            0               3   \n",
       "194  20201010457  25410       0    red + violet            3               3   \n",
       "195  20201010458  25488       8             red            2              10   \n",
       "196  20201010459  25407       7           green            0               7   \n",
       "197  20201010460  25418       8             red            2              10   \n",
       "198  20201010461  25465       5  green + violet            1               6   \n",
       "\n",
       "     num_times_color  \n",
       "189                0  \n",
       "190                0  \n",
       "191                0  \n",
       "192               12  \n",
       "193                0  \n",
       "194                0  \n",
       "195               16  \n",
       "196                0  \n",
       "197               16  \n",
       "198                5  "
      ]
     },
     "execution_count": 35,
     "metadata": {},
     "output_type": "execute_result"
    }
   ],
   "source": [
    "df.timestamp == '2020'"
   ]
  },
  {
   "cell_type": "code",
   "execution_count": 23,
   "metadata": {},
   "outputs": [
    {
     "data": {
      "text/html": [
       "<div>\n",
       "<style scoped>\n",
       "    .dataframe tbody tr th:only-of-type {\n",
       "        vertical-align: middle;\n",
       "    }\n",
       "\n",
       "    .dataframe tbody tr th {\n",
       "        vertical-align: top;\n",
       "    }\n",
       "\n",
       "    .dataframe thead th {\n",
       "        text-align: right;\n",
       "    }\n",
       "</style>\n",
       "<table border=\"1\" class=\"dataframe\">\n",
       "  <thead>\n",
       "    <tr style=\"text-align: right;\">\n",
       "      <th></th>\n",
       "      <th>timestamp</th>\n",
       "      <th>price</th>\n",
       "      <th>number</th>\n",
       "      <th>color</th>\n",
       "      <th>colorseries</th>\n",
       "      <th>num_plus_color</th>\n",
       "      <th>num_times_color</th>\n",
       "    </tr>\n",
       "  </thead>\n",
       "  <tbody>\n",
       "    <tr>\n",
       "      <td>0</td>\n",
       "      <td>20201001222</td>\n",
       "      <td>25455</td>\n",
       "      <td>5</td>\n",
       "      <td>green + violet</td>\n",
       "      <td>1</td>\n",
       "      <td>6</td>\n",
       "      <td>5</td>\n",
       "    </tr>\n",
       "    <tr>\n",
       "      <td>1</td>\n",
       "      <td>20201001223</td>\n",
       "      <td>25473</td>\n",
       "      <td>3</td>\n",
       "      <td>green</td>\n",
       "      <td>0</td>\n",
       "      <td>3</td>\n",
       "      <td>0</td>\n",
       "    </tr>\n",
       "    <tr>\n",
       "      <td>2</td>\n",
       "      <td>20201001224</td>\n",
       "      <td>25476</td>\n",
       "      <td>6</td>\n",
       "      <td>red</td>\n",
       "      <td>2</td>\n",
       "      <td>8</td>\n",
       "      <td>12</td>\n",
       "    </tr>\n",
       "  </tbody>\n",
       "</table>\n",
       "</div>"
      ],
      "text/plain": [
       "     timestamp  price  number           color  colorseries  num_plus_color  \\\n",
       "0  20201001222  25455       5  green + violet            1               6   \n",
       "1  20201001223  25473       3           green            0               3   \n",
       "2  20201001224  25476       6             red            2               8   \n",
       "\n",
       "   num_times_color  \n",
       "0                5  \n",
       "1                0  \n",
       "2               12  "
      ]
     },
     "execution_count": 23,
     "metadata": {},
     "output_type": "execute_result"
    }
   ],
   "source": [
    "paritydf = pd.read_csv('parity_clean_248.csv')\n",
    "paritydf.head(3)"
   ]
  },
  {
   "cell_type": "code",
   "execution_count": 33,
   "metadata": {},
   "outputs": [],
   "source": [
    "pl.educate(seqmodel, clsfmodel, n_epochs = 200)"
   ]
  },
  {
   "cell_type": "code",
   "execution_count": 34,
   "metadata": {},
   "outputs": [
    {
     "name": "stdout",
     "output_type": "stream",
     "text": [
      "\n",
      "Generated Xtensor and ytensor !\n",
      "Tensors initialized !\n",
      "\n",
      "----------------------------------------------------------------------\n",
      "History saved for nadalweb.in\n",
      "----------------------------------------------------------------------\n",
      "\n",
      "Final Train Loss :      0.939                 \n",
      "\n",
      "Final  Val Loss :      1.707\n",
      "\n",
      "\n",
      "Sequence modeling complete ...!\n",
      "\n",
      "\n",
      "Sequence model predictions saved in seqpreds_df...!\n",
      "\n",
      "\n",
      "Classifier test fit performance on training set (CV = 4) :\n",
      "\n",
      "----------------------------------------------------------------------\n",
      "Mean Train Acc on : 0.434\n",
      "\n",
      "Mean Test Acc on : 0.418\n",
      "----------------------------------------------------------------------\n",
      "\n",
      "Classifier model is fit on whole data ... !\n",
      "\n",
      "----------------------------------------------------------------------\n",
      "Prediction saved in finalpreds_df...!\n",
      "----------------------------------------------------------------------\n",
      "\n",
      "Final classifier accuracy is :     43.033 %\n",
      "\n",
      "Prediction model is ready... (seqmodel + classifier) !\n",
      "\n"
     ]
    }
   ],
   "source": [
    "pl.reset_models()\n",
    "pl.learn(paritydf.colorseries, 4, yhat_choice= 'bankers')"
   ]
  },
  {
   "cell_type": "code",
   "execution_count": 35,
   "metadata": {},
   "outputs": [
    {
     "name": "stdout",
     "output_type": "stream",
     "text": [
      "Switched to server : bcone\n"
     ]
    }
   ],
   "source": [
    "nadal.select_server(3)"
   ]
  },
  {
   "cell_type": "code",
   "execution_count": 38,
   "metadata": {},
   "outputs": [
    {
     "name": "stdout",
     "output_type": "stream",
     "text": [
      "You are on server : bcone !\n",
      "Fetching from server : bcone ! (Time now : 01:25s)\n",
      "Entering at shop time 1:22...\n",
      "Started fetching 2 pages .. at 01:22s\n",
      "Fetch completed ... !\n",
      "Data collected has nice quality !\n",
      "Processing data ...\n",
      "\n",
      "**************************************************\n",
      "Datapoints arrangement : Past to Future ...\n",
      "**************************************************\n",
      "\n",
      "Data parsed successfully ...! Time elapsed :  8.75 s\n",
      "\n",
      "**********************************************************************\n",
      "\n",
      "By watching 4 games, I think the next color is GREEN ...!\n",
      "\n",
      "**********************************************************************\n"
     ]
    }
   ],
   "source": [
    "pl.predict_next(make_log= False, play_reverse= True, fetch_from= '2:50')"
   ]
  },
  {
   "cell_type": "code",
   "execution_count": null,
   "metadata": {},
   "outputs": [],
   "source": []
  }
 ],
 "metadata": {
  "kernelspec": {
   "display_name": "Py-BW",
   "language": "python",
   "name": "py_kernel"
  },
  "language_info": {
   "codemirror_mode": {
    "name": "ipython",
    "version": 3
   },
   "file_extension": ".py",
   "mimetype": "text/x-python",
   "name": "python",
   "nbconvert_exporter": "python",
   "pygments_lexer": "ipython3",
   "version": "3.7.8"
  }
 },
 "nbformat": 4,
 "nbformat_minor": 4
}
